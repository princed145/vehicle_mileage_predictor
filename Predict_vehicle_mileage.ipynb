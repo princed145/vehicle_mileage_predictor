{
 "cells": [
  {
   "cell_type": "markdown",
   "id": "22e05936",
   "metadata": {},
   "source": [
    "I declare this is my own work in accordance with Seneca College’s Academic Policies. No part has\n",
    "been copied manually or electronically from any other source (including web sites) or distributed\n",
    "to other students.\n",
    "Name: (PRINCE DOBARIYA) Student Number: (127067205)."
   ]
  },
  {
   "cell_type": "code",
   "execution_count": 484,
   "id": "dba6806b",
   "metadata": {},
   "outputs": [],
   "source": [
    "import pandas as pd \n",
    "import numpy as np\n",
    "from sklearn.model_selection import train_test_split, cross_val_score\n",
    "from sklearn.preprocessing import PolynomialFeatures\n",
    "from sklearn.linear_model import LinearRegression\n",
    "from sklearn.metrics import mean_squared_error, r2_score, mean_absolute_error, accuracy_score"
   ]
  },
  {
   "cell_type": "markdown",
   "id": "c01e603b",
   "metadata": {},
   "source": [
    "**PROBLEM STATEMENT**"
   ]
  },
  {
   "cell_type": "markdown",
   "id": "5683cb99",
   "metadata": {},
   "source": [
    "TO PREDICT THE VEHICLE MILEAGE(MPG) USING GIVEN 4 FEATURES "
   ]
  },
  {
   "cell_type": "code",
   "execution_count": 120,
   "id": "62d005af",
   "metadata": {},
   "outputs": [],
   "source": [
    "colnames = ['horsepower', 'weight', 'cylinders', 'displacement', 'mpg'] # Specifying the columns as data is unlabled "
   ]
  },
  {
   "cell_type": "code",
   "execution_count": 121,
   "id": "3b521634",
   "metadata": {},
   "outputs": [],
   "source": [
    "data = pd.read_csv('auto_fuel.csv', names=colnames, header=None) # reading the csv file with given column name with pandas library"
   ]
  },
  {
   "cell_type": "markdown",
   "id": "a16a0706",
   "metadata": {},
   "source": [
    "**TAKING QUICK LOOK AT THE DATA SET** "
   ]
  },
  {
   "cell_type": "code",
   "execution_count": 122,
   "id": "20a899d7",
   "metadata": {},
   "outputs": [
    {
     "name": "stdout",
     "output_type": "stream",
     "text": [
      "<class 'pandas.core.frame.DataFrame'>\n",
      "RangeIndex: 392 entries, 0 to 391\n",
      "Data columns (total 5 columns):\n",
      " #   Column        Non-Null Count  Dtype  \n",
      "---  ------        --------------  -----  \n",
      " 0   horsepower    390 non-null    float64\n",
      " 1   weight        388 non-null    float64\n",
      " 2   cylinders     389 non-null    float64\n",
      " 3   displacement  390 non-null    float64\n",
      " 4   mpg           392 non-null    float64\n",
      "dtypes: float64(5)\n",
      "memory usage: 15.4 KB\n"
     ]
    }
   ],
   "source": [
    "data.info() # The given  dataset have 5 columns with each one as FLOAT DATATYPE and have 392 entries "
   ]
  },
  {
   "cell_type": "code",
   "execution_count": 123,
   "id": "c9fed991",
   "metadata": {},
   "outputs": [
    {
     "data": {
      "text/html": [
       "<div>\n",
       "<style scoped>\n",
       "    .dataframe tbody tr th:only-of-type {\n",
       "        vertical-align: middle;\n",
       "    }\n",
       "\n",
       "    .dataframe tbody tr th {\n",
       "        vertical-align: top;\n",
       "    }\n",
       "\n",
       "    .dataframe thead th {\n",
       "        text-align: right;\n",
       "    }\n",
       "</style>\n",
       "<table border=\"1\" class=\"dataframe\">\n",
       "  <thead>\n",
       "    <tr style=\"text-align: right;\">\n",
       "      <th></th>\n",
       "      <th>horsepower</th>\n",
       "      <th>weight</th>\n",
       "      <th>cylinders</th>\n",
       "      <th>displacement</th>\n",
       "      <th>mpg</th>\n",
       "    </tr>\n",
       "  </thead>\n",
       "  <tbody>\n",
       "    <tr>\n",
       "      <th>count</th>\n",
       "      <td>390.000000</td>\n",
       "      <td>388.000000</td>\n",
       "      <td>389.000000</td>\n",
       "      <td>390.000000</td>\n",
       "      <td>392.000000</td>\n",
       "    </tr>\n",
       "    <tr>\n",
       "      <th>mean</th>\n",
       "      <td>104.382051</td>\n",
       "      <td>2976.608247</td>\n",
       "      <td>5.462725</td>\n",
       "      <td>194.783333</td>\n",
       "      <td>23.445918</td>\n",
       "    </tr>\n",
       "    <tr>\n",
       "      <th>std</th>\n",
       "      <td>38.495687</td>\n",
       "      <td>850.250373</td>\n",
       "      <td>1.701053</td>\n",
       "      <td>104.775497</td>\n",
       "      <td>7.805007</td>\n",
       "    </tr>\n",
       "    <tr>\n",
       "      <th>min</th>\n",
       "      <td>46.000000</td>\n",
       "      <td>1613.000000</td>\n",
       "      <td>3.000000</td>\n",
       "      <td>68.000000</td>\n",
       "      <td>9.000000</td>\n",
       "    </tr>\n",
       "    <tr>\n",
       "      <th>25%</th>\n",
       "      <td>75.000000</td>\n",
       "      <td>2222.250000</td>\n",
       "      <td>4.000000</td>\n",
       "      <td>105.000000</td>\n",
       "      <td>17.000000</td>\n",
       "    </tr>\n",
       "    <tr>\n",
       "      <th>50%</th>\n",
       "      <td>93.500000</td>\n",
       "      <td>2803.500000</td>\n",
       "      <td>4.000000</td>\n",
       "      <td>151.000000</td>\n",
       "      <td>22.750000</td>\n",
       "    </tr>\n",
       "    <tr>\n",
       "      <th>75%</th>\n",
       "      <td>125.000000</td>\n",
       "      <td>3614.750000</td>\n",
       "      <td>8.000000</td>\n",
       "      <td>293.250000</td>\n",
       "      <td>29.000000</td>\n",
       "    </tr>\n",
       "    <tr>\n",
       "      <th>max</th>\n",
       "      <td>230.000000</td>\n",
       "      <td>5140.000000</td>\n",
       "      <td>8.000000</td>\n",
       "      <td>455.000000</td>\n",
       "      <td>46.600000</td>\n",
       "    </tr>\n",
       "  </tbody>\n",
       "</table>\n",
       "</div>"
      ],
      "text/plain": [
       "       horsepower       weight   cylinders  displacement         mpg\n",
       "count  390.000000   388.000000  389.000000    390.000000  392.000000\n",
       "mean   104.382051  2976.608247    5.462725    194.783333   23.445918\n",
       "std     38.495687   850.250373    1.701053    104.775497    7.805007\n",
       "min     46.000000  1613.000000    3.000000     68.000000    9.000000\n",
       "25%     75.000000  2222.250000    4.000000    105.000000   17.000000\n",
       "50%     93.500000  2803.500000    4.000000    151.000000   22.750000\n",
       "75%    125.000000  3614.750000    8.000000    293.250000   29.000000\n",
       "max    230.000000  5140.000000    8.000000    455.000000   46.600000"
      ]
     },
     "execution_count": 123,
     "metadata": {},
     "output_type": "execute_result"
    }
   ],
   "source": [
    "data.describe()"
   ]
  },
  {
   "cell_type": "code",
   "execution_count": 124,
   "id": "11076d19",
   "metadata": {},
   "outputs": [
    {
     "data": {
      "text/plain": [
       "3"
      ]
     },
     "execution_count": 124,
     "metadata": {},
     "output_type": "execute_result"
    }
   ],
   "source": [
    "# checking for any duplicated rows\n",
    "data.duplicated().sum()"
   ]
  },
  {
   "cell_type": "code",
   "execution_count": 125,
   "id": "dacca49b",
   "metadata": {},
   "outputs": [
    {
     "data": {
      "text/plain": [
       "horsepower      2\n",
       "weight          4\n",
       "cylinders       3\n",
       "displacement    2\n",
       "mpg             0\n",
       "dtype: int64"
      ]
     },
     "execution_count": 125,
     "metadata": {},
     "output_type": "execute_result"
    }
   ],
   "source": [
    "data.isna().sum() # The given data has the many missing values in each column"
   ]
  },
  {
   "cell_type": "markdown",
   "id": "880518a0",
   "metadata": {},
   "source": [
    "**DATA CLEANING**"
   ]
  },
  {
   "cell_type": "code",
   "execution_count": 126,
   "id": "718c5b06",
   "metadata": {},
   "outputs": [],
   "source": [
    "# Remvoving the Duplicate the rows from the Dataset\n",
    "data.drop_duplicates(inplace = True) "
   ]
  },
  {
   "cell_type": "code",
   "execution_count": 127,
   "id": "8c15a815",
   "metadata": {},
   "outputs": [],
   "source": [
    "# Replacing numeric missing values with the average of the respective columns \n",
    "data['horsepower'] = data['horsepower'].fillna(data['horsepower'].mean())\n",
    "data['weight'] = data['weight'].fillna(data['weight'].mean())\n",
    "data['displacement'] = data['displacement'].fillna(data['displacement'].mean())"
   ]
  },
  {
   "cell_type": "code",
   "execution_count": 128,
   "id": "61d6f9f9",
   "metadata": {},
   "outputs": [
    {
     "data": {
      "text/plain": [
       "4.0    195\n",
       "8.0    101\n",
       "6.0     83\n",
       "3.0      4\n",
       "5.0      3\n",
       "Name: cylinders, dtype: int64"
      ]
     },
     "execution_count": 128,
     "metadata": {},
     "output_type": "execute_result"
    }
   ],
   "source": [
    "# Changing Cylinder column to Category \n",
    "data['cylinders'] = data['cylinders'].astype('category') \n",
    "data['cylinders'].value_counts() # more 50% of the cars are with 4 cylinders "
   ]
  },
  {
   "cell_type": "code",
   "execution_count": 129,
   "id": "0f811399",
   "metadata": {},
   "outputs": [],
   "source": [
    "# Filling the missing values in cylinder column with most Frequent value \n",
    "data['cylinders'] = data['cylinders'].fillna(data['cylinders'].mode()[0]) "
   ]
  },
  {
   "cell_type": "markdown",
   "id": "48bcfeea",
   "metadata": {},
   "source": [
    "**SPLITTING INTO TRAINING AND TESTING DATA** "
   ]
  },
  {
   "cell_type": "code",
   "execution_count": 457,
   "id": "e3420f76",
   "metadata": {},
   "outputs": [],
   "source": [
    "X = data[['horsepower', 'weight', 'cylinders','displacement']].values\n",
    "Y = data[['mpg']].values\n",
    "X_train, X_test, Y_train, Y_test = train_test_split(X, Y, test_size=0.2) # Splitting into 80/20 ratio in train/test set "
   ]
  },
  {
   "cell_type": "markdown",
   "id": "86824f6f",
   "metadata": {},
   "source": [
    "**MODEL-1 (POLYNOMIAL REGRESSION with degree 3)**"
   ]
  },
  {
   "cell_type": "code",
   "execution_count": 458,
   "id": "3502749d",
   "metadata": {},
   "outputs": [],
   "source": [
    "poly = PolynomialFeatures(degree=3) # Creating instance of PolynomialFeatures degree 3"
   ]
  },
  {
   "cell_type": "code",
   "execution_count": 459,
   "id": "4160a1e4",
   "metadata": {},
   "outputs": [],
   "source": [
    "X_train_trans = poly.fit_transform(X_train) # fitting and Transforming X_train, X_test features  \n",
    "X_test_trans = poly.fit_transform(X_test)"
   ]
  },
  {
   "cell_type": "code",
   "execution_count": 460,
   "id": "a9dbc87e",
   "metadata": {},
   "outputs": [
    {
     "data": {
      "text/plain": [
       "LinearRegression()"
      ]
     },
     "execution_count": 460,
     "metadata": {},
     "output_type": "execute_result"
    }
   ],
   "source": [
    "lm = LinearRegression() # Creating linear regression object \n",
    "lm.fit(X_train_trans, Y_train)"
   ]
  },
  {
   "cell_type": "code",
   "execution_count": 461,
   "id": "7cdbc1bc",
   "metadata": {},
   "outputs": [],
   "source": [
    "Yhat = lm.predict(X_train_trans) # Predicting with training test"
   ]
  },
  {
   "cell_type": "code",
   "execution_count": 462,
   "id": "010205eb",
   "metadata": {},
   "outputs": [
    {
     "name": "stdout",
     "output_type": "stream",
     "text": [
      "Mean Absolute Error: 2.608\n",
      "Root Mean Squared Error: 3.577\n",
      "R2 Score: 0.891\n"
     ]
    }
   ],
   "source": [
    "# Evaluating the model using regression metrics \n",
    "print(\"Mean Absolute Error: %.3f\" % mean_absolute_error(Y_train, Yhat))\n",
    "print(\"Root Mean Squared Error: %.3f\" % np.sqrt(mean_squared_error(Y_train, Yhat)))\n",
    "print(\"R2 Score: %.3f\" % np.sqrt(r2_score(Y_train, Yhat))) # % of y data is explained by x "
   ]
  },
  {
   "cell_type": "markdown",
   "id": "b3c34018",
   "metadata": {},
   "source": [
    "**MODEL-2 (POLYNOMIAL REGRESSION with degree 5)**"
   ]
  },
  {
   "cell_type": "code",
   "execution_count": 463,
   "id": "70e09665",
   "metadata": {},
   "outputs": [],
   "source": [
    "poly = PolynomialFeatures(degree=5)\n",
    "X_train_trans = poly.fit_transform(X_train)\n",
    "X_test_trans = poly.fit_transform(X_test)"
   ]
  },
  {
   "cell_type": "code",
   "execution_count": 464,
   "id": "a4a960db",
   "metadata": {},
   "outputs": [
    {
     "data": {
      "text/plain": [
       "LinearRegression()"
      ]
     },
     "execution_count": 464,
     "metadata": {},
     "output_type": "execute_result"
    }
   ],
   "source": [
    "lm = LinearRegression()\n",
    "lm.fit(X_train_trans, Y_train)"
   ]
  },
  {
   "cell_type": "code",
   "execution_count": 465,
   "id": "3ac0ae57",
   "metadata": {},
   "outputs": [],
   "source": [
    "Yhat = lm.predict(X_train_trans)"
   ]
  },
  {
   "cell_type": "code",
   "execution_count": 466,
   "id": "59a5d885",
   "metadata": {},
   "outputs": [
    {
     "name": "stdout",
     "output_type": "stream",
     "text": [
      "Mean Absolute Error: 4.884\n",
      "Root Mean Squared Error: 6.771\n",
      "R2 Score: 0.514\n"
     ]
    }
   ],
   "source": [
    "print(\"Mean Absolute Error: %.3f\" % mean_absolute_error(Y_train, Yhat))\n",
    "print(\"Root Mean Squared Error: %.3f\" % np.sqrt(mean_squared_error(Y_train, Yhat)))\n",
    "print(\"R2 Score: %.3f\" % np.sqrt(r2_score(Y_train, Yhat)))"
   ]
  },
  {
   "cell_type": "markdown",
   "id": "2de9334c",
   "metadata": {},
   "source": [
    "**MODEL-3 (POLYNOMIAL REGRESSION with degree 15)**"
   ]
  },
  {
   "cell_type": "code",
   "execution_count": 467,
   "id": "b677b67d",
   "metadata": {},
   "outputs": [],
   "source": [
    "poly = PolynomialFeatures(degree=7)\n",
    "X_train_trans = poly.fit_transform(X_train)\n",
    "X_test_trans = poly.fit_transform(X_test)"
   ]
  },
  {
   "cell_type": "code",
   "execution_count": 468,
   "id": "dc3606c7",
   "metadata": {},
   "outputs": [
    {
     "data": {
      "text/plain": [
       "LinearRegression()"
      ]
     },
     "execution_count": 468,
     "metadata": {},
     "output_type": "execute_result"
    }
   ],
   "source": [
    "lm = LinearRegression()\n",
    "lm.fit(X_train_trans, Y_train)"
   ]
  },
  {
   "cell_type": "code",
   "execution_count": 469,
   "id": "872923f4",
   "metadata": {},
   "outputs": [],
   "source": [
    "Yhat = lm.predict(X_train_trans)"
   ]
  },
  {
   "cell_type": "code",
   "execution_count": 470,
   "id": "9e5b23c5",
   "metadata": {},
   "outputs": [
    {
     "name": "stdout",
     "output_type": "stream",
     "text": [
      "Mean Absolute Error: 2.210\n",
      "Root Mean Squared Error: 3.134\n",
      "R2 Score: 0.918\n"
     ]
    }
   ],
   "source": [
    "print(\"Mean Absolute Error: %.3f\" % mean_absolute_error(Y_train, Yhat))\n",
    "print(\"Root Mean Squared Error: %.3f\" % np.sqrt(mean_squared_error(Y_train, Yhat)))\n",
    "print(\"R2 Score: %.3f\" % np.sqrt(r2_score(Y_train, Yhat)))"
   ]
  },
  {
   "cell_type": "markdown",
   "id": "ec6219c9",
   "metadata": {},
   "source": [
    "**After performing evaluation we found out that DEGREE 15 model gives the best accuracy.<br>\n",
    "SO FINALLY PREDICTING TEST SET ON POLYNOMIAL REGRESSION with degree 15** "
   ]
  },
  {
   "cell_type": "code",
   "execution_count": 480,
   "id": "157efc0c",
   "metadata": {},
   "outputs": [],
   "source": [
    "poly = PolynomialFeatures(degree=15)\n",
    "X_train_trans = poly.fit_transform(X_train)\n",
    "X_test_trans = poly.fit_transform(X_test)"
   ]
  },
  {
   "cell_type": "code",
   "execution_count": 481,
   "id": "af6cba58",
   "metadata": {},
   "outputs": [],
   "source": [
    "lm = LinearRegression()\n",
    "lm.fit(X_train_trans, Y_train)\n",
    "Yhat = lm.predict(X_test_trans)"
   ]
  },
  {
   "cell_type": "code",
   "execution_count": 482,
   "id": "5a2eb271",
   "metadata": {},
   "outputs": [
    {
     "name": "stdout",
     "output_type": "stream",
     "text": [
      "Mean Absolute Error: 46.683\n",
      "Root Mean Squared Error: 217.742\n",
      "R2 Score: -858.621\n"
     ]
    }
   ],
   "source": [
    "print(\"Mean Absolute Error: %.3f\" % mean_absolute_error(Y_test, Yhat))\n",
    "print(\"Root Mean Squared Error: %.3f\" % np.sqrt(mean_squared_error(Y_test, Yhat)))\n",
    "print(\"R2 Score: %.3f\" % (r2_score(Y_test, Yhat)))"
   ]
  },
  {
   "cell_type": "code",
   "execution_count": 489,
   "id": "55c7921f",
   "metadata": {},
   "outputs": [
    {
     "name": "stdout",
     "output_type": "stream",
     "text": [
      "predicted : [[31.58759554]\n",
      " [32.29064337]\n",
      " [32.26118751]\n",
      " [20.39366245]\n",
      " [17.98446119]\n",
      " [31.52595814]]\n",
      "actual : [[28. ]\n",
      " [26. ]\n",
      " [31.5]\n",
      " [18. ]\n",
      " [15.5]\n",
      " [36. ]]\n"
     ]
    }
   ],
   "source": [
    "# Priting out First Six Values \n",
    "print(\"predicted :\",Yhat[:6])   \n",
    "print(\"actual :\",Y_test[:6])"
   ]
  }
 ],
 "metadata": {
  "kernelspec": {
   "display_name": "Python 3",
   "language": "python",
   "name": "python3"
  },
  "language_info": {
   "codemirror_mode": {
    "name": "ipython",
    "version": 3
   },
   "file_extension": ".py",
   "mimetype": "text/x-python",
   "name": "python",
   "nbconvert_exporter": "python",
   "pygments_lexer": "ipython3",
   "version": "3.8.8"
  }
 },
 "nbformat": 4,
 "nbformat_minor": 5
}
